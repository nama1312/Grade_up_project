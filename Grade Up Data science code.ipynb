{
 "cells": [
  {
   "cell_type": "markdown",
   "id": "01babec0-1ede-4232-a4af-b46621e1b0f9",
   "metadata": {},
   "source": [
    "# 1) Importing all necessary libraries\n",
    "# Bringing in the essentials — pandas for data handling\r\n",
    "# scikit-learn for all the modeling, preprocessing, and evaluation tools."
   ]
  },
  {
   "cell_type": "code",
   "execution_count": 21,
   "id": "32e96b2a-b2a3-4591-9e32-c2c81f92c60c",
   "metadata": {},
   "outputs": [],
   "source": [
    "import pandas as pd\n",
    "from sklearn.model_selection import train_test_split\n",
    "from sklearn.preprocessing import OneHotEncoder\n",
    "from sklearn.impute import SimpleImputer\n",
    "from sklearn.pipeline import Pipeline\n",
    "from sklearn.compose import ColumnTransformer\n",
    "from sklearn.linear_model import LogisticRegression"
   ]
  },
  {
   "cell_type": "markdown",
   "id": "20b5983d-c399-4ad5-80f2-d938d3f7c899",
   "metadata": {},
   "source": [
    "# 2. Load Data\n",
    "# Loading the voter file.."
   ]
  },
  {
   "cell_type": "code",
   "execution_count": null,
   "id": "87f45fb7-b3c0-4cde-b20a-4c25950142f9",
   "metadata": {},
   "outputs": [],
   "source": [
    "df = pd.read_csv(\"voterfile .csv\")"
   ]
  },
  {
   "cell_type": "markdown",
   "id": "ef3c7132-3858-4982-bc60-44bfb47fad31",
   "metadata": {},
   "source": [
    "# 3. Dropping all irrelevant Rows and Columns\n",
    "# Dropping 'vh14p' because this is May 2014, and we wouldn't have data from the 2014 primary yet.\r\n",
    "# Just being cautious with future leakage."
   ]
  },
  {
   "cell_type": "code",
   "execution_count": null,
   "id": "a506b6b1-9acf-4a41-ba50-4474eff46ae7",
   "metadata": {},
   "outputs": [],
   "source": [
    "df = df.drop(columns=['vh14p'], errors='ignore')\n",
    "\n",
    "df = df.dropna(subset=['vh12g'])"
   ]
  },
  {
   "cell_type": "markdown",
   "id": "72175066-709d-4aa0-b9cf-09d5e9ee9adc",
   "metadata": {},
   "source": [
    "# 4. Defining target\n",
    "# we are predicting wether voted in 2012 electons"
   ]
  },
  {
   "cell_type": "code",
   "execution_count": null,
   "id": "d0946d6d-9bd1-498c-bc3a-f713b0803b15",
   "metadata": {},
   "outputs": [],
   "source": [
    "target = 'vh12g'\n",
    "X = df.drop(columns=[target])\n",
    "y = df[target]\n",
    "\n",
    "optimus_id = X['optimus_id']"
   ]
  },
  {
   "cell_type": "markdown",
   "id": "b350e29c-60c7-47e2-99f7-19201a0dede5",
   "metadata": {},
   "source": [
    "# 5. Numerical and Categorical Columns\n",
    "# splitting data into numerical vs categorical for preprocessing.\n"
   ]
  },
  {
   "cell_type": "code",
   "execution_count": null,
   "id": "d880a20c-8b9c-43de-9b97-8c5b26f47260",
   "metadata": {},
   "outputs": [],
   "source": [
    "numerical_cols = X.select_dtypes(include=['int64', 'float64']).columns.tolist()\n",
    "numerical_cols = [col for col in numerical_cols if col not in ['optimus_id', 'cd']]\n",
    "categorical_cols = X.select_dtypes(include=['object']).columns.tolist()"
   ]
  },
  {
   "cell_type": "markdown",
   "id": "62890810-98c7-4f32-9e66-223681efe854",
   "metadata": {},
   "source": [
    "# 6. Preprocessing and Combining\n",
    "# working with numerical and Categorical Pipelines"
   ]
  },
  {
   "cell_type": "code",
   "execution_count": null,
   "id": "4f999ac5-3acd-48ee-8220-93d405e72a93",
   "metadata": {},
   "outputs": [],
   "source": [
    "numeric_transformer = Pipeline(steps=[\n",
    "    ('imputer', SimpleImputer(strategy='median'))\n",
    "])\n",
    "\n",
    "categorical_transformer = Pipeline(steps=[\n",
    "    ('imputer', SimpleImputer(strategy='most_frequent')),\n",
    "    ('onehot', OneHotEncoder(handle_unknown='ignore'))\n",
    "])\n",
    "\n",
    "\n",
    "preprocessor = ColumnTransformer(\n",
    "    transformers=[\n",
    "        ('num', numeric_transformer, numerical_cols),\n",
    "        ('cat', categorical_transformer, categorical_cols)\n",
    "    ]\n",
    ")"
   ]
  },
  {
   "cell_type": "markdown",
   "id": "d732e82e-5ea8-40ae-b0ed-c1e0ca012495",
   "metadata": {},
   "source": [
    "# 7. Pipline with Logistic regression"
   ]
  },
  {
   "cell_type": "code",
   "execution_count": null,
   "id": "7867a68a-e3d2-4a21-88d5-eb1181de1869",
   "metadata": {},
   "outputs": [],
   "source": [
    "model = Pipeline(steps=[\n",
    "    ('preprocessor', preprocessor),\n",
    "    ('classifier', LogisticRegression(max_iter=1000))\n",
    "]"
   ]
  },
  {
   "cell_type": "markdown",
   "id": "ab2d64e1-156b-4e2b-a028-415569f041f8",
   "metadata": {},
   "source": [
    "# 8. Train and Predictions"
   ]
  },
  {
   "cell_type": "code",
   "execution_count": null,
   "id": "93570e2f-99d1-4437-8d24-3dc873eb8a75",
   "metadata": {},
   "outputs": [],
   "source": [
    "model.fit(X, y)\n",
    "\n",
    "vote_prob = model.predict_proba(X)[:, 1]\n",
    "vote = (vote_prob >= 0.5).astype(int)"
   ]
  },
  {
   "cell_type": "markdown",
   "id": "a14051b9-3598-4823-a9d3-881b1d2b97d1",
   "metadata": {},
   "source": [
    "# 9. Output and saving"
   ]
  },
  {
   "cell_type": "code",
   "execution_count": null,
   "id": "1ab3f67f-757a-4fe8-b84e-922056f1784e",
   "metadata": {},
   "outputs": [],
   "source": [
    "output_df = X.copy()\n",
    "output_df['vote'] = vote\n",
    "output_df['vote_prob'] = vote_prob\n",
    "\n",
    "used_features = numerical_cols + categorical_cols\n",
    "final_columns = ['optimus_id'] + used_features + ['vote', 'vote_prob']\n",
    "output_df = output_df[final_columns]\n",
    "\n",
    "output_df.to_csv(\"predictions.csv\", index=False)"
   ]
  }
 ],
 "metadata": {
  "kernelspec": {
   "display_name": "Python 3 (ipykernel)",
   "language": "python",
   "name": "python3"
  },
  "language_info": {
   "codemirror_mode": {
    "name": "ipython",
    "version": 3
   },
   "file_extension": ".py",
   "mimetype": "text/x-python",
   "name": "python",
   "nbconvert_exporter": "python",
   "pygments_lexer": "ipython3",
   "version": "3.12.4"
  }
 },
 "nbformat": 4,
 "nbformat_minor": 5
}
